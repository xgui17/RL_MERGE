{
 "cells": [
  {
   "cell_type": "code",
   "execution_count": 1,
   "id": "b75aa741-d891-4757-bc62-ab4c95cf53f3",
   "metadata": {},
   "outputs": [],
   "source": [
    "import sys\n",
    "sys.argv = ['']"
   ]
  },
  {
   "cell_type": "code",
   "execution_count": 2,
   "id": "1073a787",
   "metadata": {},
   "outputs": [
    {
     "name": "stderr",
     "output_type": "stream",
     "text": [
      "c:\\Users\\siddu\\anaconda3\\envs\\pytorch_audio\\Lib\\site-packages\\tqdm\\auto.py:21: TqdmWarning: IProgress not found. Please update jupyter and ipywidgets. See https://ipywidgets.readthedocs.io/en/stable/user_install.html\n",
      "  from .autonotebook import tqdm as notebook_tqdm\n"
     ]
    },
    {
     "name": "stdout",
     "output_type": "stream",
     "text": [
      "run_models_.py\n",
      "Model date and time:\n",
      "2024-10-28-at-19-33-56 \n",
      "\n",
      "\n",
      "Cell line: E122\n",
      "Task: Regression\n",
      "ChIP-seq resolution: 10000\n",
      "\n",
      "\n",
      "Training set: 70%\n",
      "Validation set: 15%\n",
      "Testing set: 15%\n",
      "\n",
      "\n",
      "Model hyperparameters: \n",
      "Number of epochs: 1000\n",
      "Learning rate: 0.0001\n",
      "Number of graph convolutional layers: 2\n",
      "Graph convolutional embedding size: 256\n",
      "Number of linear layers: 3\n",
      "Linear hidden layer size: 256\n",
      "\n",
      "Model's state_dict:\n",
      "conv1.lin_l.weight \t torch.Size([256, 12])\n",
      "conv1.lin_l.bias \t torch.Size([256])\n",
      "conv2.lin_l.weight \t torch.Size([256, 512])\n",
      "conv2.lin_l.bias \t torch.Size([256])\n",
      "lin1.weight \t torch.Size([256, 256])\n",
      "lin1.bias \t torch.Size([256])\n",
      "lin2.weight \t torch.Size([256, 256])\n",
      "lin2.bias \t torch.Size([256])\n",
      "lin3.weight \t torch.Size([1, 256])\n",
      "lin3.bias \t torch.Size([1])\n"
     ]
    },
    {
     "name": "stderr",
     "output_type": "stream",
     "text": [
      "<unknown>:13: SyntaxWarning: invalid escape sequence '\\m'\n"
     ]
    },
    {
     "name": "stdout",
     "output_type": "stream",
     "text": [
      "\n",
      "\n",
      "Epoch 0 out of 1000\n",
      "Epoch 100 out of 1000\n",
      "Epoch 200 out of 1000\n",
      "Epoch 300 out of 1000\n",
      "Epoch 400 out of 1000\n",
      "Epoch 500 out of 1000\n",
      "Epoch 600 out of 1000\n",
      "Epoch 700 out of 1000\n",
      "Epoch 800 out of 1000\n",
      "Epoch 900 out of 1000\n",
      "Elapsed time: 00:05:48\n",
      "\n",
      "Performance:\n",
      "Test pearson: 0.7430595605590267 \n",
      "\n"
     ]
    },
    {
     "name": "stderr",
     "output_type": "stream",
     "text": [
      "c:\\Users\\siddu\\capstone\\DSC-180A-github\\GC-MERGE\\src\\run_models_.py:709: FutureWarning: The behavior of DataFrame concatenation with empty or all-NA entries is deprecated. In a future version, this will no longer exclude empty or all-NA columns when determining the result dtypes. To retain the old behavior, exclude the relevant entries before the concat operation.\n",
      "  df_full_metrics = pd.concat([df_full_metrics, partial_metrics], ignore_index=True)\n"
     ]
    }
   ],
   "source": [
    "import numpy as np\n",
    "import pandas as pd\n",
    "import model_classes_\n",
    "\n",
    "#import process_inputs_\n",
    "import run_models_\n",
    "import sage_conv_cat_"
   ]
  },
  {
   "cell_type": "code",
   "execution_count": 1,
   "id": "2d97f74a",
   "metadata": {},
   "outputs": [
    {
     "name": "stderr",
     "output_type": "stream",
     "text": [
      "c:\\Users\\siddu\\anaconda3\\envs\\pytorch_audio\\Lib\\site-packages\\tqdm\\auto.py:21: TqdmWarning: IProgress not found. Please update jupyter and ipywidgets. See https://ipywidgets.readthedocs.io/en/stable/user_install.html\n",
      "  from .autonotebook import tqdm as notebook_tqdm\n"
     ]
    },
    {
     "name": "stdout",
     "output_type": "stream",
     "text": [
      "run_models_.py\n",
      "Model date and time:\n",
      "2024-10-28-at-20-03-17 \n",
      "\n",
      "\n",
      "Cell line: E122\n",
      "Task: Classification\n",
      "ChIP-seq resolution: 10000\n",
      "\n",
      "\n",
      "Training set: 70%\n",
      "Validation set: 15%\n",
      "Testing set: 15%\n",
      "\n",
      "\n",
      "Model hyperparameters: \n",
      "Number of epochs: 1000\n",
      "Learning rate: 0.0001\n",
      "Number of graph convolutional layers: 2\n",
      "Graph convolutional embedding size: 256\n",
      "Number of linear layers: 3\n",
      "Linear hidden layer size: 256\n",
      "\n",
      "Model's state_dict:\n",
      "conv1.lin_l.weight \t torch.Size([256, 12])\n",
      "conv1.lin_l.bias \t torch.Size([256])\n",
      "conv2.lin_l.weight \t torch.Size([256, 512])\n",
      "conv2.lin_l.bias \t torch.Size([256])\n",
      "lin1.weight \t torch.Size([256, 256])\n",
      "lin1.bias \t torch.Size([256])\n",
      "lin2.weight \t torch.Size([256, 256])\n",
      "lin2.bias \t torch.Size([256])\n",
      "lin3.weight \t torch.Size([2, 256])\n",
      "lin3.bias \t torch.Size([2])\n"
     ]
    },
    {
     "name": "stderr",
     "output_type": "stream",
     "text": [
      "<unknown>:13: SyntaxWarning: invalid escape sequence '\\m'\n"
     ]
    },
    {
     "name": "stdout",
     "output_type": "stream",
     "text": [
      "\n",
      "\n",
      "Epoch 0 out of 1000\n",
      "Epoch 100 out of 1000\n",
      "Epoch 200 out of 1000\n",
      "Epoch 300 out of 1000\n",
      "Epoch 400 out of 1000\n",
      "Epoch 500 out of 1000\n",
      "Epoch 600 out of 1000\n",
      "Epoch 700 out of 1000\n",
      "Epoch 800 out of 1000\n",
      "Epoch 900 out of 1000\n",
      "Elapsed time: 00:06:35\n",
      "\n",
      "Performance:\n",
      "Test AUROC: 0.8977080186762553 \n",
      "\n",
      "Test AUPR: 0.8702055720048901 \n",
      "\n",
      "\n"
     ]
    },
    {
     "name": "stderr",
     "output_type": "stream",
     "text": [
      "C:\\Users\\siddu\\capstone\\DSC-180A-github\\GC-MERGE\\src\\run_models_.py:621: FutureWarning: A value is trying to be set on a copy of a DataFrame or Series through chained assignment using an inplace method.\n",
      "The behavior will change in pandas 3.0. This inplace method will never work because the intermediate object on which we are setting values always behaves as a copy.\n",
      "\n",
      "For example, when doing 'df[col].method(value, inplace=True)', try using 'df.method({col: value}, inplace=True)' or df[col] = df[col].method(value) instead, to perform the operation inplace on the original object.\n",
      "\n",
      "\n",
      "  partial_metrics['Classification'].replace(to_replace=0, value='TN', inplace=True)\n",
      "C:\\Users\\siddu\\capstone\\DSC-180A-github\\GC-MERGE\\src\\run_models_.py:621: FutureWarning: A value is trying to be set on a copy of a DataFrame or Series through chained assignment using an inplace method.\n",
      "The behavior will change in pandas 3.0. This inplace method will never work because the intermediate object on which we are setting values always behaves as a copy.\n",
      "\n",
      "For example, when doing 'df[col].method(value, inplace=True)', try using 'df.method({col: value}, inplace=True)' or df[col] = df[col].method(value) instead, to perform the operation inplace on the original object.\n",
      "\n",
      "\n",
      "  partial_metrics['Classification'].replace(to_replace=0, value='TN', inplace=True)\n",
      "C:\\Users\\siddu\\capstone\\DSC-180A-github\\GC-MERGE\\src\\run_models_.py:621: FutureWarning: A value is trying to be set on a copy of a DataFrame or Series through chained assignment using an inplace method.\n",
      "The behavior will change in pandas 3.0. This inplace method will never work because the intermediate object on which we are setting values always behaves as a copy.\n",
      "\n",
      "For example, when doing 'df[col].method(value, inplace=True)', try using 'df.method({col: value}, inplace=True)' or df[col] = df[col].method(value) instead, to perform the operation inplace on the original object.\n",
      "\n",
      "\n",
      "  partial_metrics['Classification'].replace(to_replace=0, value='TN', inplace=True)\n"
     ]
    }
   ],
   "source": [
    "%run run_models_.py -c E122 -rf 0\n"
   ]
  },
  {
   "cell_type": "code",
   "execution_count": null,
   "id": "6ff76266",
   "metadata": {},
   "outputs": [],
   "source": []
  }
 ],
 "metadata": {
  "kernelspec": {
   "display_name": "pytorch_audio",
   "language": "python",
   "name": "python3"
  },
  "language_info": {
   "codemirror_mode": {
    "name": "ipython",
    "version": 3
   },
   "file_extension": ".py",
   "mimetype": "text/x-python",
   "name": "python",
   "nbconvert_exporter": "python",
   "pygments_lexer": "ipython3",
   "version": "3.12.3"
  }
 },
 "nbformat": 4,
 "nbformat_minor": 5
}
