{
 "cells": [
  {
   "cell_type": "code",
   "execution_count": 6,
   "metadata": {},
   "outputs": [
    {
     "name": "stdout",
     "output_type": "stream",
     "text": [
      "Features shape: torch.Size([279606, 6])\n",
      "Number of classes: 1\n",
      "Hidden size: 256\n",
      "Number of neighbors per node: 2\n",
      "Neighbor features shape after padding: [748096      6]\n",
      "Gathered neighbors shape after reshaping: [11689    64     6]\n",
      "Actual neighbors in sampling_weights: 64\n",
      "Requested num_samples: 256\n",
      "Selected neighbors shape: [11689    64     6]\n",
      "Top-k scores shape: [11689    64]\n",
      "Top-k indices shape: [11689    64]\n",
      "Epoch 1\n",
      "Predictions shape: torch.Size([11689, 1])\n",
      "Train labels shape: torch.Size([11689])\n"
     ]
    },
    {
     "name": "stderr",
     "output_type": "stream",
     "text": [
      "2024-12-04 17:33:46.383331: I tensorflow/core/util/port.cc:153] oneDNN custom operations are on. You may see slightly different numerical results due to floating-point round-off errors from different computation orders. To turn them off, set the environment variable `TF_ENABLE_ONEDNN_OPTS=0`.\n",
      "2024-12-04 17:33:47.256770: I tensorflow/core/util/port.cc:153] oneDNN custom operations are on. You may see slightly different numerical results due to floating-point round-off errors from different computation orders. To turn them off, set the environment variable `TF_ENABLE_ONEDNN_OPTS=0`.\n",
      "2024-12-04 17:33:49.477813: I tensorflow/core/platform/cpu_feature_guard.cc:210] This TensorFlow binary is optimized to use available CPU instructions in performance-critical operations.\n",
      "To enable the following instructions: AVX2 AVX512F AVX512_VNNI AVX512_BF16 FMA, in other operations, rebuild TensorFlow with the appropriate compiler flags.\n",
      "Traceback (most recent call last):\n",
      "  File \"c:\\Users\\siddu\\capstone\\DSC-180A-github\\Capstone-A06-Rice-n-Curry\\run_RL_models.py\", line 107, in <module>\n",
      "    loss = masked_loss(predictions, y[train_idx])\n",
      "           ^^^^^^^^^^^^^^^^^^^^^^^^^^^^^^^^^^^^^^\n",
      "  File \"c:\\Users\\siddu\\capstone\\DSC-180A-github\\Capstone-A06-Rice-n-Curry\\run_RL_models.py\", line 75, in masked_loss\n",
      "    return torch.nn.functional.cross_entropy(predictions, targets)\n",
      "           ^^^^^^^^^^^^^^^^^^^^^^^^^^^^^^^^^^^^^^^^^^^^^^^^^^^^^^^\n",
      "  File \"c:\\Users\\siddu\\anaconda3\\envs\\pytorch_audio\\Lib\\site-packages\\torch\\nn\\functional.py\", line 3086, in cross_entropy\n",
      "    return torch._C._nn.cross_entropy_loss(input, target, weight, _Reduction.get_enum(reduction), ignore_index, label_smoothing)\n",
      "           ^^^^^^^^^^^^^^^^^^^^^^^^^^^^^^^^^^^^^^^^^^^^^^^^^^^^^^^^^^^^^^^^^^^^^^^^^^^^^^^^^^^^^^^^^^^^^^^^^^^^^^^^^^^^^^^^^^^^^\n",
      "RuntimeError: expected scalar type Long but found Float\n"
     ]
    }
   ],
   "source": [
    "!python run_RL_models.py -c E116 -rf 1"
   ]
  },
  {
   "cell_type": "code",
   "execution_count": null,
   "metadata": {},
   "outputs": [],
   "source": []
  }
 ],
 "metadata": {
  "kernelspec": {
   "display_name": "pytorch_audio",
   "language": "python",
   "name": "python3"
  },
  "language_info": {
   "codemirror_mode": {
    "name": "ipython",
    "version": 3
   },
   "file_extension": ".py",
   "mimetype": "text/x-python",
   "name": "python",
   "nbconvert_exporter": "python",
   "pygments_lexer": "ipython3",
   "version": "3.12.3"
  }
 },
 "nbformat": 4,
 "nbformat_minor": 2
}
