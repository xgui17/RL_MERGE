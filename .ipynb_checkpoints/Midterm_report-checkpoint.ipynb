{
 "cells": [
  {
   "cell_type": "code",
   "execution_count": 1,
   "id": "07cde7d8",
   "metadata": {},
   "outputs": [],
   "source": [
    "data_path = '../GC-MERGE/src/data/'\n",
    "# data_path = 'data/'"
   ]
  },
  {
   "cell_type": "code",
   "execution_count": 2,
   "id": "0b228641",
   "metadata": {},
   "outputs": [],
   "source": [
    "import sys\n",
    "sys.argv = ['']"
   ]
  },
  {
   "cell_type": "code",
   "execution_count": 89,
   "id": "793d02e3",
   "metadata": {},
   "outputs": [],
   "source": [
    "import numpy as np\n",
    "import pandas as pd\n",
    "import os\n",
    "import pickle\n",
    "\n",
    "import torch\n",
    "import torch.nn as nn\n",
    "import torch_geometric\n",
    "\n",
    "import argparse\n",
    "import time\n",
    "from datetime import datetime, date\n",
    "import random\n",
    "\n",
    "from scipy.sparse import load_npz\n",
    "from scipy.stats import pearsonr\n",
    "from sklearn.metrics import roc_auc_score, precision_recall_curve, auc\n",
    "\n",
    "import matplotlib.pyplot as plt"
   ]
  },
  {
   "cell_type": "code",
   "execution_count": 4,
   "id": "ea54a7a2",
   "metadata": {},
   "outputs": [
    {
     "data": {
      "text/plain": [
       "<torch._C.Generator at 0x7fc647539550>"
      ]
     },
     "execution_count": 4,
     "metadata": {},
     "output_type": "execute_result"
    }
   ],
   "source": [
    "random.seed(0)\n",
    "np.random.seed(0)\n",
    "torch.manual_seed(0)"
   ]
  },
  {
   "cell_type": "code",
   "execution_count": 3,
   "id": "5adf2c7a",
   "metadata": {},
   "outputs": [
    {
     "name": "stdout",
     "output_type": "stream",
     "text": [
      "run_models_.py\n",
      "Model date and time:\n",
      "2024-10-29-at-13-41-56 \n",
      "\n",
      "\n",
      "Cell line: E122\n",
      "Task: Regression\n",
      "ChIP-seq resolution: 10000\n",
      "\n",
      "\n",
      "Training set: 70%\n",
      "Validation set: 15%\n",
      "Testing set: 15%\n",
      "\n",
      "\n",
      "Model hyperparameters: \n",
      "Number of epochs: 1000\n",
      "Learning rate: 0.0001\n",
      "Number of graph convolutional layers: 2\n",
      "Graph convolutional embedding size: 256\n",
      "Number of linear layers: 3\n",
      "Linear hidden layer size: 256\n",
      "\n",
      "Model's state_dict:\n",
      "conv1.lin_l.weight \t torch.Size([256, 12])\n",
      "conv1.lin_l.bias \t torch.Size([256])\n",
      "conv2.lin_l.weight \t torch.Size([256, 512])\n",
      "conv2.lin_l.bias \t torch.Size([256])\n",
      "lin1.weight \t torch.Size([256, 256])\n",
      "lin1.bias \t torch.Size([256])\n",
      "lin2.weight \t torch.Size([256, 256])\n",
      "lin2.bias \t torch.Size([256])\n",
      "lin3.weight \t torch.Size([1, 256])\n",
      "lin3.bias \t torch.Size([1])\n",
      "\n",
      "\n",
      "Epoch 0 out of 1000\n",
      "Epoch 100 out of 1000\n",
      "Epoch 200 out of 1000\n",
      "Epoch 300 out of 1000\n",
      "Epoch 400 out of 1000\n",
      "Epoch 500 out of 1000\n",
      "Epoch 600 out of 1000\n",
      "Epoch 700 out of 1000\n",
      "Epoch 800 out of 1000\n",
      "Epoch 900 out of 1000\n",
      "Elapsed time: 00:03:54\n",
      "\n",
      "Performance:\n",
      "Test pearson: 0.7420352481167919 \n",
      "\n"
     ]
    }
   ],
   "source": [
    "import model_classes_\n",
    "# import process_inputs_\n",
    "import run_models_\n",
    "import sage_conv_cat_"
   ]
  },
  {
   "cell_type": "code",
   "execution_count": 101,
   "id": "1855755c",
   "metadata": {},
   "outputs": [],
   "source": [
    "cell_lines = ['E116', 'E122', 'E123']"
   ]
  },
  {
   "cell_type": "markdown",
   "id": "1877d8bf",
   "metadata": {},
   "source": [
    "### GC-MERGE"
   ]
  },
  {
   "cell_type": "code",
   "execution_count": 7,
   "id": "7bf2dfdb",
   "metadata": {
    "collapsed": true
   },
   "outputs": [
    {
     "name": "stdout",
     "output_type": "stream",
     "text": [
      "run_models_.py\n",
      "Model date and time:\n",
      "2024-10-29-at-14-00-43 \n",
      "\n",
      "\n",
      "Cell line: E116\n",
      "Task: Classification\n",
      "ChIP-seq resolution: 10000\n",
      "\n",
      "\n",
      "Training set: 70%\n",
      "Validation set: 15%\n",
      "Testing set: 15%\n",
      "\n",
      "\n",
      "Model hyperparameters: \n",
      "Number of epochs: 1000\n",
      "Learning rate: 0.0001\n",
      "Number of graph convolutional layers: 2\n",
      "Graph convolutional embedding size: 256\n",
      "Number of linear layers: 3\n",
      "Linear hidden layer size: 256\n",
      "\n",
      "Model's state_dict:\n",
      "conv1.lin_l.weight \t torch.Size([256, 12])\n",
      "conv1.lin_l.bias \t torch.Size([256])\n",
      "conv2.lin_l.weight \t torch.Size([256, 512])\n",
      "conv2.lin_l.bias \t torch.Size([256])\n",
      "lin1.weight \t torch.Size([256, 256])\n",
      "lin1.bias \t torch.Size([256])\n",
      "lin2.weight \t torch.Size([256, 256])\n",
      "lin2.bias \t torch.Size([256])\n",
      "lin3.weight \t torch.Size([2, 256])\n",
      "lin3.bias \t torch.Size([2])\n",
      "\n",
      "\n",
      "Epoch 0 out of 1000\n",
      "Epoch 100 out of 1000\n",
      "Epoch 200 out of 1000\n",
      "Epoch 300 out of 1000\n",
      "Epoch 400 out of 1000\n",
      "Epoch 500 out of 1000\n",
      "Epoch 600 out of 1000\n",
      "Epoch 700 out of 1000\n",
      "Epoch 800 out of 1000\n",
      "Epoch 900 out of 1000\n",
      "Elapsed time: 00:03:46\n",
      "\n",
      "Performance:\n",
      "Test AUROC: 0.9121441806274124 \n",
      "\n",
      "Test AUPR: 0.8898503338956122 \n",
      "\n",
      "\n",
      "run_models_.py\n",
      "Model date and time:\n",
      "2024-10-29-at-14-04-30 \n",
      "\n",
      "\n",
      "Cell line: E116\n",
      "Task: Regression\n",
      "ChIP-seq resolution: 10000\n",
      "\n",
      "\n",
      "Training set: 70%\n",
      "Validation set: 15%\n",
      "Testing set: 15%\n",
      "\n",
      "\n",
      "Model hyperparameters: \n",
      "Number of epochs: 1000\n",
      "Learning rate: 0.0001\n",
      "Number of graph convolutional layers: 2\n",
      "Graph convolutional embedding size: 256\n",
      "Number of linear layers: 3\n",
      "Linear hidden layer size: 256\n",
      "\n",
      "Model's state_dict:\n",
      "conv1.lin_l.weight \t torch.Size([256, 12])\n",
      "conv1.lin_l.bias \t torch.Size([256])\n",
      "conv2.lin_l.weight \t torch.Size([256, 512])\n",
      "conv2.lin_l.bias \t torch.Size([256])\n",
      "lin1.weight \t torch.Size([256, 256])\n",
      "lin1.bias \t torch.Size([256])\n",
      "lin2.weight \t torch.Size([256, 256])\n",
      "lin2.bias \t torch.Size([256])\n",
      "lin3.weight \t torch.Size([1, 256])\n",
      "lin3.bias \t torch.Size([1])\n",
      "\n",
      "\n",
      "Epoch 0 out of 1000\n",
      "Epoch 100 out of 1000\n",
      "Epoch 200 out of 1000\n",
      "Epoch 300 out of 1000\n",
      "Epoch 400 out of 1000\n",
      "Epoch 500 out of 1000\n",
      "Epoch 600 out of 1000\n",
      "Epoch 700 out of 1000\n",
      "Epoch 800 out of 1000\n",
      "Epoch 900 out of 1000\n",
      "Elapsed time: 00:04:18\n",
      "\n",
      "Performance:\n",
      "Test pearson: 0.7658786232003778 \n",
      "\n",
      "run_models_.py\n",
      "Model date and time:\n",
      "2024-10-29-at-14-08-48 \n",
      "\n",
      "\n",
      "Cell line: E122\n",
      "Task: Classification\n",
      "ChIP-seq resolution: 10000\n",
      "\n",
      "\n",
      "Training set: 70%\n",
      "Validation set: 15%\n",
      "Testing set: 15%\n",
      "\n",
      "\n",
      "Model hyperparameters: \n",
      "Number of epochs: 1000\n",
      "Learning rate: 0.0001\n",
      "Number of graph convolutional layers: 2\n",
      "Graph convolutional embedding size: 256\n",
      "Number of linear layers: 3\n",
      "Linear hidden layer size: 256\n",
      "\n",
      "Model's state_dict:\n",
      "conv1.lin_l.weight \t torch.Size([256, 12])\n",
      "conv1.lin_l.bias \t torch.Size([256])\n",
      "conv2.lin_l.weight \t torch.Size([256, 512])\n",
      "conv2.lin_l.bias \t torch.Size([256])\n",
      "lin1.weight \t torch.Size([256, 256])\n",
      "lin1.bias \t torch.Size([256])\n",
      "lin2.weight \t torch.Size([256, 256])\n",
      "lin2.bias \t torch.Size([256])\n",
      "lin3.weight \t torch.Size([2, 256])\n",
      "lin3.bias \t torch.Size([2])\n",
      "\n",
      "\n",
      "Epoch 0 out of 1000\n",
      "Epoch 100 out of 1000\n",
      "Epoch 200 out of 1000\n",
      "Epoch 300 out of 1000\n",
      "Epoch 400 out of 1000\n",
      "Epoch 500 out of 1000\n",
      "Epoch 600 out of 1000\n",
      "Epoch 700 out of 1000\n",
      "Epoch 800 out of 1000\n",
      "Epoch 900 out of 1000\n",
      "Elapsed time: 00:03:30\n",
      "\n",
      "Performance:\n",
      "Test AUROC: 0.8975725723807115 \n",
      "\n",
      "Test AUPR: 0.8702394585309942 \n",
      "\n",
      "\n",
      "run_models_.py\n",
      "Model date and time:\n",
      "2024-10-29-at-14-12-19 \n",
      "\n",
      "\n",
      "Cell line: E122\n",
      "Task: Regression\n",
      "ChIP-seq resolution: 10000\n",
      "\n",
      "\n",
      "Training set: 70%\n",
      "Validation set: 15%\n",
      "Testing set: 15%\n",
      "\n",
      "\n",
      "Model hyperparameters: \n",
      "Number of epochs: 1000\n",
      "Learning rate: 0.0001\n",
      "Number of graph convolutional layers: 2\n",
      "Graph convolutional embedding size: 256\n",
      "Number of linear layers: 3\n",
      "Linear hidden layer size: 256\n",
      "\n",
      "Model's state_dict:\n",
      "conv1.lin_l.weight \t torch.Size([256, 12])\n",
      "conv1.lin_l.bias \t torch.Size([256])\n",
      "conv2.lin_l.weight \t torch.Size([256, 512])\n",
      "conv2.lin_l.bias \t torch.Size([256])\n",
      "lin1.weight \t torch.Size([256, 256])\n",
      "lin1.bias \t torch.Size([256])\n",
      "lin2.weight \t torch.Size([256, 256])\n",
      "lin2.bias \t torch.Size([256])\n",
      "lin3.weight \t torch.Size([1, 256])\n",
      "lin3.bias \t torch.Size([1])\n",
      "\n",
      "\n",
      "Epoch 0 out of 1000\n",
      "Epoch 100 out of 1000\n",
      "Epoch 200 out of 1000\n",
      "Epoch 300 out of 1000\n",
      "Epoch 400 out of 1000\n",
      "Epoch 500 out of 1000\n",
      "Epoch 600 out of 1000\n",
      "Epoch 700 out of 1000\n",
      "Epoch 800 out of 1000\n",
      "Epoch 900 out of 1000\n",
      "Elapsed time: 00:03:45\n",
      "\n",
      "Performance:\n",
      "Test pearson: 0.7418368232204835 \n",
      "\n",
      "run_models_.py\n",
      "Model date and time:\n",
      "2024-10-29-at-14-16-05 \n",
      "\n",
      "\n",
      "Cell line: E123\n",
      "Task: Classification\n",
      "ChIP-seq resolution: 10000\n",
      "\n",
      "\n",
      "Training set: 70%\n",
      "Validation set: 15%\n",
      "Testing set: 15%\n",
      "\n",
      "\n",
      "Model hyperparameters: \n",
      "Number of epochs: 1000\n",
      "Learning rate: 0.0001\n",
      "Number of graph convolutional layers: 2\n",
      "Graph convolutional embedding size: 256\n",
      "Number of linear layers: 3\n",
      "Linear hidden layer size: 256\n",
      "\n",
      "Model's state_dict:\n",
      "conv1.lin_l.weight \t torch.Size([256, 12])\n",
      "conv1.lin_l.bias \t torch.Size([256])\n",
      "conv2.lin_l.weight \t torch.Size([256, 512])\n",
      "conv2.lin_l.bias \t torch.Size([256])\n",
      "lin1.weight \t torch.Size([256, 256])\n",
      "lin1.bias \t torch.Size([256])\n",
      "lin2.weight \t torch.Size([256, 256])\n",
      "lin2.bias \t torch.Size([256])\n",
      "lin3.weight \t torch.Size([2, 256])\n",
      "lin3.bias \t torch.Size([2])\n",
      "\n",
      "\n",
      "Epoch 0 out of 1000\n",
      "Epoch 100 out of 1000\n",
      "Epoch 200 out of 1000\n",
      "Epoch 300 out of 1000\n",
      "Epoch 400 out of 1000\n",
      "Epoch 500 out of 1000\n",
      "Epoch 600 out of 1000\n",
      "Epoch 700 out of 1000\n",
      "Epoch 800 out of 1000\n",
      "Epoch 900 out of 1000\n",
      "Elapsed time: 00:03:32\n",
      "\n",
      "Performance:\n",
      "Test AUROC: 0.9336650413488317 \n",
      "\n",
      "Test AUPR: 0.912437889981902 \n",
      "\n",
      "\n",
      "run_models_.py\n",
      "Model date and time:\n",
      "2024-10-29-at-14-19-38 \n",
      "\n",
      "\n",
      "Cell line: E123\n",
      "Task: Regression\n",
      "ChIP-seq resolution: 10000\n",
      "\n",
      "\n",
      "Training set: 70%\n",
      "Validation set: 15%\n",
      "Testing set: 15%\n",
      "\n",
      "\n",
      "Model hyperparameters: \n",
      "Number of epochs: 1000\n",
      "Learning rate: 0.0001\n",
      "Number of graph convolutional layers: 2\n",
      "Graph convolutional embedding size: 256\n",
      "Number of linear layers: 3\n",
      "Linear hidden layer size: 256\n",
      "\n",
      "Model's state_dict:\n",
      "conv1.lin_l.weight \t torch.Size([256, 12])\n",
      "conv1.lin_l.bias \t torch.Size([256])\n",
      "conv2.lin_l.weight \t torch.Size([256, 512])\n",
      "conv2.lin_l.bias \t torch.Size([256])\n",
      "lin1.weight \t torch.Size([256, 256])\n",
      "lin1.bias \t torch.Size([256])\n",
      "lin2.weight \t torch.Size([256, 256])\n",
      "lin2.bias \t torch.Size([256])\n",
      "lin3.weight \t torch.Size([1, 256])\n",
      "lin3.bias \t torch.Size([1])\n",
      "\n",
      "\n",
      "Epoch 0 out of 1000\n",
      "Epoch 100 out of 1000\n",
      "Epoch 200 out of 1000\n",
      "Epoch 300 out of 1000\n",
      "Epoch 400 out of 1000\n",
      "Epoch 500 out of 1000\n",
      "Epoch 600 out of 1000\n",
      "Epoch 700 out of 1000\n",
      "Epoch 800 out of 1000\n",
      "Epoch 900 out of 1000\n",
      "Elapsed time: 00:03:40\n",
      "\n",
      "Performance:\n",
      "Test pearson: 0.8169628586195548 \n",
      "\n"
     ]
    }
   ],
   "source": [
    "# run classifications and regressions on each cell line\n",
    "for cl in cell_lines:\n",
    "    for i in [0,1]:\n",
    "        %run run_models_.py -c {cl} -rf {i}"
   ]
  },
  {
   "cell_type": "markdown",
   "id": "f7ef38bb",
   "metadata": {},
   "source": [
    "#### Extract results"
   ]
  },
  {
   "cell_type": "code",
   "execution_count": 81,
   "id": "8a0200d8",
   "metadata": {},
   "outputs": [
    {
     "data": {
      "text/html": [
       "<div>\n",
       "<style scoped>\n",
       "    .dataframe tbody tr th:only-of-type {\n",
       "        vertical-align: middle;\n",
       "    }\n",
       "\n",
       "    .dataframe tbody tr th {\n",
       "        vertical-align: top;\n",
       "    }\n",
       "\n",
       "    .dataframe thead th {\n",
       "        text-align: right;\n",
       "    }\n",
       "</style>\n",
       "<table border=\"1\" class=\"dataframe\">\n",
       "  <thead>\n",
       "    <tr style=\"text-align: right;\">\n",
       "      <th></th>\n",
       "      <th>Cell line</th>\n",
       "      <th>Test pearson</th>\n",
       "      <th>File path</th>\n",
       "    </tr>\n",
       "  </thead>\n",
       "  <tbody>\n",
       "    <tr>\n",
       "      <th>0</th>\n",
       "      <td>E116</td>\n",
       "      <td>0.765879</td>\n",
       "      <td>saved_runs/model_2024-10-29-at-14-04-30</td>\n",
       "    </tr>\n",
       "    <tr>\n",
       "      <th>1</th>\n",
       "      <td>E122</td>\n",
       "      <td>0.741837</td>\n",
       "      <td>saved_runs/model_2024-10-29-at-14-12-19</td>\n",
       "    </tr>\n",
       "    <tr>\n",
       "      <th>2</th>\n",
       "      <td>E123</td>\n",
       "      <td>0.816963</td>\n",
       "      <td>saved_runs/model_2024-10-29-at-14-19-38</td>\n",
       "    </tr>\n",
       "  </tbody>\n",
       "</table>\n",
       "</div>"
      ],
      "text/plain": [
       "  Cell line  Test pearson                                File path\n",
       "0      E116      0.765879  saved_runs/model_2024-10-29-at-14-04-30\n",
       "1      E122      0.741837  saved_runs/model_2024-10-29-at-14-12-19\n",
       "2      E123      0.816963  saved_runs/model_2024-10-29-at-14-19-38"
      ]
     },
     "execution_count": 81,
     "metadata": {},
     "output_type": "execute_result"
    }
   ],
   "source": [
    "regression_results_meta = pd.read_csv('log_regression.txt')\n",
    "regression_results_meta"
   ]
  },
  {
   "cell_type": "code",
   "execution_count": 82,
   "id": "bb39e0da",
   "metadata": {},
   "outputs": [
    {
     "data": {
      "text/html": [
       "<div>\n",
       "<style scoped>\n",
       "    .dataframe tbody tr th:only-of-type {\n",
       "        vertical-align: middle;\n",
       "    }\n",
       "\n",
       "    .dataframe tbody tr th {\n",
       "        vertical-align: top;\n",
       "    }\n",
       "\n",
       "    .dataframe thead th {\n",
       "        text-align: right;\n",
       "    }\n",
       "</style>\n",
       "<table border=\"1\" class=\"dataframe\">\n",
       "  <thead>\n",
       "    <tr style=\"text-align: right;\">\n",
       "      <th></th>\n",
       "      <th>Cell line</th>\n",
       "      <th>Test AUROC</th>\n",
       "      <th>Test AUPR</th>\n",
       "      <th>File path</th>\n",
       "    </tr>\n",
       "  </thead>\n",
       "  <tbody>\n",
       "    <tr>\n",
       "      <th>0</th>\n",
       "      <td>E116</td>\n",
       "      <td>0.912144</td>\n",
       "      <td>0.889850</td>\n",
       "      <td>saved_runs/model_2024-10-29-at-14-00-43</td>\n",
       "    </tr>\n",
       "    <tr>\n",
       "      <th>1</th>\n",
       "      <td>E122</td>\n",
       "      <td>0.897573</td>\n",
       "      <td>0.870239</td>\n",
       "      <td>saved_runs/model_2024-10-29-at-14-08-48</td>\n",
       "    </tr>\n",
       "    <tr>\n",
       "      <th>2</th>\n",
       "      <td>E123</td>\n",
       "      <td>0.933665</td>\n",
       "      <td>0.912438</td>\n",
       "      <td>saved_runs/model_2024-10-29-at-14-16-05</td>\n",
       "    </tr>\n",
       "  </tbody>\n",
       "</table>\n",
       "</div>"
      ],
      "text/plain": [
       "  Cell line  Test AUROC  Test AUPR                                File path\n",
       "0      E116    0.912144   0.889850  saved_runs/model_2024-10-29-at-14-00-43\n",
       "1      E122    0.897573   0.870239  saved_runs/model_2024-10-29-at-14-08-48\n",
       "2      E123    0.933665   0.912438  saved_runs/model_2024-10-29-at-14-16-05"
      ]
     },
     "execution_count": 82,
     "metadata": {},
     "output_type": "execute_result"
    }
   ],
   "source": [
    "classification_results_meta = pd.read_csv('log_classification.txt')\n",
    "classification_results_meta"
   ]
  },
  {
   "cell_type": "code",
   "execution_count": 83,
   "id": "d8cb82a0",
   "metadata": {},
   "outputs": [],
   "source": [
    "def extract_results(cl, fp):\n",
    "    path = f'{data_path}{cl}/{fp}_test_metrics.npz'\n",
    "    test_metric = np.load(path)\n",
    "    y_true, y_pred = test_metric['test_labels'], test_metric['test_pred']\n",
    "    return y_true, y_pred\n",
    "\n",
    "gcn_results = {cl: {'y_true': [], 'y_pred': []} for cl in cell_lines}\n",
    "\n",
    "for row in regression_results_meta.iterrows():\n",
    "    cl, fp = row[1]['Cell line'], row[1]['File path']\n",
    "    y_true, y_pred = extract_results(cl, fp)\n",
    "    gcn_results[cl]['y_true'] = y_true\n",
    "    gcn_results[cl]['y_pred'] = y_pred"
   ]
  },
  {
   "cell_type": "code",
   "execution_count": 84,
   "id": "431ef558",
   "metadata": {},
   "outputs": [
    {
     "data": {
      "text/plain": [
       "{'E116': {'y_true': array([7.4816443e-02, 1.2221588e-01, 1.6026676e+00, ..., 8.6685643e-04,\n",
       "         0.0000000e+00, 1.8273369e+00], dtype=float32),\n",
       "  'y_pred': array([0.75512505, 1.2212895 , 0.5311072 , ..., 0.04765021, 0.05083667,\n",
       "         1.1735519 ], dtype=float32)},\n",
       " 'E122': {'y_true': array([0.39759243, 0.00216606, 0.        , ..., 0.        , 0.        ,\n",
       "         0.5661386 ], dtype=float32),\n",
       "  'y_pred': array([0.69241256, 0.2089414 , 0.0147909 , ..., 0.03534405, 0.0304466 ,\n",
       "         1.4553151 ], dtype=float32)},\n",
       " 'E123': {'y_true': array([1.6577536 , 0.87765944, 0.96736073, ..., 0.00302947, 1.339968  ,\n",
       "         0.3170181 ], dtype=float32),\n",
       "  'y_pred': array([1.3715566 , 1.096382  , 0.9502483 , ..., 0.38962704, 0.24517499,\n",
       "         0.902174  ], dtype=float32)}}"
      ]
     },
     "execution_count": 84,
     "metadata": {},
     "output_type": "execute_result"
    }
   ],
   "source": [
    "gcn_results"
   ]
  },
  {
   "cell_type": "code",
   "execution_count": 77,
   "id": "22010164",
   "metadata": {},
   "outputs": [
    {
     "data": {
      "text/plain": [
       "(2503,)"
      ]
     },
     "execution_count": 77,
     "metadata": {},
     "output_type": "execute_result"
    }
   ],
   "source": [
    "gcn_results['E122']['y_true'].shape"
   ]
  },
  {
   "cell_type": "code",
   "execution_count": null,
   "id": "92159d07",
   "metadata": {},
   "outputs": [],
   "source": []
  },
  {
   "cell_type": "markdown",
   "id": "0e8ab2bc",
   "metadata": {},
   "source": [
    "### MLP"
   ]
  },
  {
   "cell_type": "code",
   "execution_count": 6,
   "id": "7c9f72a2",
   "metadata": {},
   "outputs": [],
   "source": [
    "from torch.utils.data import Dataset, DataLoader\n",
    "\n",
    "class CustomDataset(Dataset):\n",
    "    def __init__(self, X, y):\n",
    "        self.X = X\n",
    "        self.y = y\n",
    "\n",
    "    def __len__(self):\n",
    "        return len(self.X)\n",
    "\n",
    "    def __getitem__(self, idx):\n",
    "        return self.X[idx], self.y[idx]"
   ]
  },
  {
   "cell_type": "code",
   "execution_count": 7,
   "id": "cd09ac51",
   "metadata": {},
   "outputs": [],
   "source": [
    "def customize_extract_data(geneID, X, y):\n",
    "    \"\"\"\n",
    "    This function extracts needed data by gene ID\n",
    "    \"\"\"\n",
    "    x_mask = np.isin(X[:, 0], geneID)\n",
    "    extracted_x = X[x_mask, 1:]\n",
    "    \n",
    "    y_mask = np.isin(y[:, 0], geneID)\n",
    "    extracted_y = y[y_mask, 1]\n",
    "    \n",
    "    return extracted_x, extracted_y"
   ]
  },
  {
   "cell_type": "code",
   "execution_count": 8,
   "id": "e75e5981",
   "metadata": {},
   "outputs": [],
   "source": [
    "def load_data(cl):\n",
    "    \"\"\"\n",
    "    This function creates data loaders for specified cell lines.\n",
    "    \"\"\"\n",
    "    npz_path_x = f\"{data_path}{cl}/np_hmods_norm_chip_10000bp.npy\"\n",
    "    X = np.load(npz_path_x)\n",
    "    npz_path_y = f\"{data_path}{cl}/np_nodes_lab_genes_reg1.npy\"\n",
    "    data_y =  np.load(npz_path_y)\n",
    "    \n",
    "    X = torch.tensor(X, dtype= torch.float32)\n",
    "    y = torch.tensor(data_y).float()\n",
    "    X = X[data_y[:, :1].squeeze()]\n",
    "\n",
    "    targetNode_mask = torch.tensor(data_y[:,0].astype(int)).long()\n",
    "    pred_idx_shuff = torch.randperm(targetNode_mask.shape[0])\n",
    "\n",
    "    fin_train = np.floor(0.7*pred_idx_shuff.shape[0]).astype(int)\n",
    "    fin_valid = np.floor(0.85*pred_idx_shuff.shape[0]).astype(int)\n",
    "    train_idx = pred_idx_shuff[:fin_train]\n",
    "    valid_idx = pred_idx_shuff[fin_train:fin_valid]\n",
    "    test_idx = pred_idx_shuff[fin_valid:]\n",
    "\n",
    "    train_gene_ID = targetNode_mask[train_idx].numpy()\n",
    "    valid_gene_ID = targetNode_mask[valid_idx].numpy()\n",
    "    test_gene_ID = targetNode_mask[test_idx].numpy()\n",
    "    \n",
    "    X_train, y_train = customize_extract_data(train_gene_ID, X, y)\n",
    "    X_val, y_val = customize_extract_data(valid_gene_ID, X, y)\n",
    "    X_test, y_test = customize_extract_data(test_gene_ID, X, y)\n",
    "    \n",
    "    train_dataset = CustomDataset(X_train, y_train)\n",
    "    val_dataset = CustomDataset(X_val, y_val)\n",
    "    test_dataset = CustomDataset(X_test, y_test)\n",
    "    \n",
    "    batch_size = 32\n",
    "    train_loader = DataLoader(train_dataset, batch_size=batch_size, shuffle=True)\n",
    "    val_loader = DataLoader(val_dataset, batch_size=batch_size, shuffle=False)\n",
    "    test_loader = DataLoader(test_dataset, batch_size=batch_size, shuffle=False)\n",
    "\n",
    "    return train_loader, val_loader, test_loader"
   ]
  },
  {
   "cell_type": "code",
   "execution_count": 9,
   "id": "52d04966",
   "metadata": {},
   "outputs": [],
   "source": [
    "train_loader, val_loader, test_loader = load_data('E122')"
   ]
  },
  {
   "cell_type": "code",
   "execution_count": 152,
   "id": "c17b2a11",
   "metadata": {},
   "outputs": [],
   "source": [
    "from model_classes_ import MLPBaseline\n",
    "from sklearn.model_selection import train_test_split"
   ]
  },
  {
   "cell_type": "code",
   "execution_count": 158,
   "id": "6fb6d5fa",
   "metadata": {},
   "outputs": [],
   "source": [
    "def run_mlp_baseline(train_loader, val_loader, test_loader, input_dim, hidden_dim1, hidden_dim2, output_dim, lr=0.001, num_epochs=100):\n",
    "    model = MLPBaseline(input_dim=input_dim, hidden_dim1 = hidden_dim1, hidden_dim2 = hidden_dim2, output_dim = output_dim)\n",
    "    optimizer = torch.optim.Adam(model.parameters(), lr=lr)\n",
    "    criterion = nn.MSELoss()\n",
    "\n",
    "    for epoch in range(num_epochs):\n",
    "        model.train()\n",
    "        for data in train_loader:\n",
    "            x, y = data\n",
    "            optimizer.zero_grad()\n",
    "            output = model(x)\n",
    "            loss = criterion(output.squeeze(), y)\n",
    "            loss.backward()\n",
    "            optimizer.step()\n",
    "\n",
    "        model.eval()\n",
    "        val_loss = 0\n",
    "        with torch.no_grad():\n",
    "            for data in val_loader:\n",
    "                x, y = data\n",
    "                output = model(x)\n",
    "                val_loss += criterion(output.squeeze(), y).item()\n",
    "        if (epoch+1)%10 == 0:\n",
    "            print(f'Epoch {epoch+1}/{num_epochs}, Validation Loss: {val_loss/len(val_loader)}')\n",
    "\n",
    "    model.eval()\n",
    "    y_true, y_pred = [], []\n",
    "    with torch.no_grad():\n",
    "        for data in test_loader:\n",
    "            x, y = data\n",
    "            output = model(x)\n",
    "            y_true.extend(y.numpy())\n",
    "            y_pred.extend(output.squeeze().numpy())\n",
    "\n",
    "    pcc = pearsonr(y_true, y_pred)[0]\n",
    "\n",
    "    auroc = roc_auc_score((np.array(y_true) > np.median(y_true)).astype(int), y_pred)\n",
    "\n",
    "    print(f'Test PCC: {pcc}')\n",
    "    print(f'Test AUROC: {auroc}')\n",
    "    return pcc, auroc, y_true, y_pred # store test predictions"
   ]
  },
  {
   "cell_type": "code",
   "execution_count": 159,
   "id": "7016245d",
   "metadata": {},
   "outputs": [
    {
     "name": "stdout",
     "output_type": "stream",
     "text": [
      "E116\n",
      "Epoch 10/100, Validation Loss: 0.20666730102104477\n",
      "Epoch 20/100, Validation Loss: 0.18373855891861493\n",
      "Epoch 30/100, Validation Loss: 0.1853959528328497\n",
      "Epoch 40/100, Validation Loss: 0.18369384058102778\n",
      "Epoch 50/100, Validation Loss: 0.1838133461490462\n",
      "Epoch 60/100, Validation Loss: 0.18351228620055354\n",
      "Epoch 70/100, Validation Loss: 0.18332168525910075\n",
      "Epoch 80/100, Validation Loss: 0.18328903412705735\n",
      "Epoch 90/100, Validation Loss: 0.1834187157263484\n",
      "Epoch 100/100, Validation Loss: 0.1833925677722768\n",
      "Test PCC: 0.7672934385565959\n",
      "Test AUROC: 0.9284554130788981\n",
      "E122\n",
      "Epoch 10/100, Validation Loss: 0.19401616914362846\n",
      "Epoch 20/100, Validation Loss: 0.1911591403657877\n",
      "Epoch 30/100, Validation Loss: 0.18925435916532443\n",
      "Epoch 40/100, Validation Loss: 0.18849461968941025\n",
      "Epoch 50/100, Validation Loss: 0.18794553368529188\n",
      "Epoch 60/100, Validation Loss: 0.18760365615539912\n",
      "Epoch 70/100, Validation Loss: 0.18811585169427003\n",
      "Epoch 80/100, Validation Loss: 0.18750472555432138\n",
      "Epoch 90/100, Validation Loss: 0.1870329625244382\n",
      "Epoch 100/100, Validation Loss: 0.18700062153460104\n",
      "Test PCC: 0.7301746889127678\n",
      "Test AUROC: 0.9168613990596661\n",
      "E123\n",
      "Epoch 10/100, Validation Loss: 0.16877669539255433\n",
      "Epoch 20/100, Validation Loss: 0.16793787568996224\n",
      "Epoch 30/100, Validation Loss: 0.16466128364016738\n",
      "Epoch 40/100, Validation Loss: 0.16429837208382692\n",
      "Epoch 50/100, Validation Loss: 0.1642652563279188\n",
      "Epoch 60/100, Validation Loss: 0.16516325599219225\n",
      "Epoch 70/100, Validation Loss: 0.16408240262277518\n",
      "Epoch 80/100, Validation Loss: 0.16401445030977455\n",
      "Epoch 90/100, Validation Loss: 0.16324876946739003\n",
      "Epoch 100/100, Validation Loss: 0.16363824833231636\n",
      "Test PCC: 0.7856133661473115\n",
      "Test AUROC: 0.9365644361992059\n"
     ]
    }
   ],
   "source": [
    "mlp_metrics = pd.DataFrame(columns=['cell_line', 'pcc', 'auroc'])\n",
    "mlp_results = {cl: {'y_true': [], 'y_pred': []} for cl in cell_lines}\n",
    "\n",
    "for cl in cell_lines:\n",
    "    print(cl)\n",
    "    train_loader, val_loader, test_loader = load_data(cl)\n",
    "    pcc, auroc, y_true, y_pred = run_mlp_baseline(train_loader, val_loader, test_loader, input_dim = 6 , hidden_dim1 = 4, hidden_dim2 = 2,output_dim = 1, lr=0.001, num_epochs=100)  \n",
    "    mlp_metrics.loc[mlp_metrics.shape[0]] = [cl, pcc, auroc]\n",
    "    \n",
    "    store_fp_true = f'prediction_results/{cl}_mlp_regression_y_true.pkl'\n",
    "    store_fp_pred = f'prediction_results/{cl}_mlp_regression_y_pred.pkl'\n",
    "    with open(store_fp_true, 'wb') as f:\n",
    "        pickle.dump(y_true, f)\n",
    "    with open(store_fp_pred, 'wb') as f:\n",
    "        pickle.dump(y_pred, f) "
   ]
  },
  {
   "cell_type": "code",
   "execution_count": 160,
   "id": "c56a5219",
   "metadata": {
    "scrolled": true
   },
   "outputs": [
    {
     "data": {
      "text/html": [
       "<div>\n",
       "<style scoped>\n",
       "    .dataframe tbody tr th:only-of-type {\n",
       "        vertical-align: middle;\n",
       "    }\n",
       "\n",
       "    .dataframe tbody tr th {\n",
       "        vertical-align: top;\n",
       "    }\n",
       "\n",
       "    .dataframe thead th {\n",
       "        text-align: right;\n",
       "    }\n",
       "</style>\n",
       "<table border=\"1\" class=\"dataframe\">\n",
       "  <thead>\n",
       "    <tr style=\"text-align: right;\">\n",
       "      <th></th>\n",
       "      <th>cell_line</th>\n",
       "      <th>puc</th>\n",
       "      <th>auroc</th>\n",
       "    </tr>\n",
       "  </thead>\n",
       "  <tbody>\n",
       "    <tr>\n",
       "      <th>0</th>\n",
       "      <td>E116</td>\n",
       "      <td>0.767293</td>\n",
       "      <td>0.928455</td>\n",
       "    </tr>\n",
       "    <tr>\n",
       "      <th>1</th>\n",
       "      <td>E122</td>\n",
       "      <td>0.730175</td>\n",
       "      <td>0.916861</td>\n",
       "    </tr>\n",
       "    <tr>\n",
       "      <th>2</th>\n",
       "      <td>E123</td>\n",
       "      <td>0.785613</td>\n",
       "      <td>0.936564</td>\n",
       "    </tr>\n",
       "  </tbody>\n",
       "</table>\n",
       "</div>"
      ],
      "text/plain": [
       "  cell_line       puc     auroc\n",
       "0      E116  0.767293  0.928455\n",
       "1      E122  0.730175  0.916861\n",
       "2      E123  0.785613  0.936564"
      ]
     },
     "execution_count": 160,
     "metadata": {},
     "output_type": "execute_result"
    }
   ],
   "source": [
    "mlp_metrics"
   ]
  },
  {
   "cell_type": "code",
   "execution_count": null,
   "id": "e8c489ce",
   "metadata": {},
   "outputs": [],
   "source": [
    "for cl in cell_lines:\n",
    "    store_fp_true = f'prediction_results/{cl}_mlp_regression_y_true.pkl'\n",
    "    store_fp_pred = f'prediction_results/{cl}_mlp_regression_y_pred.pkl'\n",
    "    with open(store_fp_true, 'rb') as f:\n",
    "        y_true = pickle.load(f)\n",
    "    \n",
    "    with open(store_fp_pred, 'rb') as f:\n",
    "        y_pred = pickle.load(f)"
   ]
  },
  {
   "cell_type": "code",
   "execution_count": 10,
   "id": "d2c08f3e",
   "metadata": {},
   "outputs": [
    {
     "data": {
      "text/plain": [
       "torch.Size([11676, 6])"
      ]
     },
     "execution_count": 10,
     "metadata": {},
     "output_type": "execute_result"
    }
   ],
   "source": [
    "train_loader.dataset.X.shape"
   ]
  },
  {
   "cell_type": "code",
   "execution_count": 11,
   "id": "593110a0",
   "metadata": {},
   "outputs": [],
   "source": [
    "input_X = train_loader.dataset.X"
   ]
  },
  {
   "cell_type": "code",
   "execution_count": 61,
   "id": "cf44dc52",
   "metadata": {},
   "outputs": [],
   "source": [
    "expanded_tensor = input_X.unsqueeze(1).repeat(1, 100, 1)"
   ]
  },
  {
   "cell_type": "code",
   "execution_count": 63,
   "id": "9d19d499",
   "metadata": {},
   "outputs": [
    {
     "data": {
      "text/plain": [
       "torch.Size([11676, 100, 6])"
      ]
     },
     "execution_count": 63,
     "metadata": {},
     "output_type": "execute_result"
    }
   ],
   "source": [
    "expanded_tensor.shape"
   ]
  },
  {
   "cell_type": "code",
   "execution_count": null,
   "id": "66f254f3",
   "metadata": {},
   "outputs": [],
   "source": []
  },
  {
   "cell_type": "code",
   "execution_count": null,
   "id": "715a1df5",
   "metadata": {},
   "outputs": [],
   "source": []
  },
  {
   "cell_type": "markdown",
   "id": "11d5f6a1",
   "metadata": {},
   "source": [
    "### CNN"
   ]
  },
  {
   "cell_type": "code",
   "execution_count": 64,
   "id": "880a3fd7",
   "metadata": {},
   "outputs": [],
   "source": [
    "class ExpressionCNN(nn.Module):\n",
    "    def __init__(self):\n",
    "        super(ExpressionCNN, self).__init__()\n",
    "        self.conv1 = nn.Conv1d(in_channels=100, out_channels=64, kernel_size=3, padding=1)\n",
    "        self.conv2 = nn.Conv1d(in_channels=64, out_channels=32, kernel_size=3, padding=1)\n",
    "        self.fc1 = nn.Linear(32 * 6, 128)  \n",
    "        self.fc2 = nn.Linear(128, 1)     \n",
    "\n",
    "    def forward(self, x):\n",
    "        x = torch.relu(self.conv1(x))\n",
    "        x = torch.relu(self.conv2(x))\n",
    "        x = x.view(x.size(0), -1)  # Flatten\n",
    "        x = torch.relu(self.fc1(x))\n",
    "        x = self.fc2(x)\n",
    "        return x"
   ]
  },
  {
   "cell_type": "code",
   "execution_count": 67,
   "id": "6ba246a8",
   "metadata": {},
   "outputs": [],
   "source": [
    "train_loader_cnn, val_loader_cnn, test_loader_cnn = train_loader, val_loader, test_loader\n",
    "\n",
    "for loader in [train_loader_cnn, val_loader_cnn, test_loader_cnn]:\n",
    "    loader.dataset.X = loader.dataset.X.unsqueeze(1).repeat(1, 100, 1)"
   ]
  },
  {
   "cell_type": "code",
   "execution_count": 72,
   "id": "391574d2",
   "metadata": {},
   "outputs": [],
   "source": [
    "def train(model, train_loader, criterion, optimizer, device):\n",
    "    model.train()\n",
    "    running_loss = 0.0\n",
    "    for data, targets in train_loader:\n",
    "        data, targets = data.to(device), targets.to(device)\n",
    "        \n",
    "        outputs = model(data)\n",
    "        loss = criterion(outputs, targets)\n",
    "        \n",
    "        optimizer.zero_grad()\n",
    "        loss.backward()\n",
    "        optimizer.step()\n",
    "        \n",
    "        running_loss += loss.item()\n",
    "    \n",
    "    return running_loss / len(train_loader)\n",
    "\n",
    "def validate(model, valid_loader, criterion, device):\n",
    "    model.eval()\n",
    "    validation_loss = 0.0\n",
    "    with torch.no_grad():\n",
    "        for data, targets in valid_loader:\n",
    "            data, targets = data.to(device), targets.to(device)\n",
    "            \n",
    "            # Forward pass\n",
    "            outputs = model(data)\n",
    "            loss = criterion(outputs, targets)\n",
    "            \n",
    "            validation_loss += loss.item()\n",
    "    \n",
    "    return validation_loss / len(valid_loader)\n",
    "\n",
    "def test(model, test_loader, device):\n",
    "    model.eval()\n",
    "    predictions = []\n",
    "    true_values = []\n",
    "    with torch.no_grad():\n",
    "        for data, targets in test_loader:\n",
    "            data, targets = data.to(device), targets.to(device)\n",
    "            \n",
    "            # Forward pass\n",
    "            outputs = model(data)\n",
    "            predictions.extend(outputs.cpu().numpy())\n",
    "            true_values.extend(targets.cpu().numpy())\n",
    "    \n",
    "    return true_values, predictions "
   ]
  },
  {
   "cell_type": "code",
   "execution_count": 76,
   "id": "79bc1732",
   "metadata": {},
   "outputs": [],
   "source": [
    "def run_cnn_baseline(train_loader, val_loader, test_loader, lr=0.001, num_epochs=100):\n",
    "    device = torch.device('cuda' if torch.cuda.is_available() else 'cpu')\n",
    "    model = ExpressionCNN().to(device)\n",
    "    optimizer = torch.optim.Adam(model.parameters(), lr=lr)\n",
    "    criterion = nn.MSELoss()\n",
    "\n",
    "    for epoch in range(num_epochs):\n",
    "        train_loss = train(model, train_loader, criterion, optimizer, device)\n",
    "        valid_loss = validate(model, val_loader, criterion, device)\n",
    "\n",
    "#         if (epoch+1)%10 == 0:\n",
    "        print(f'Epoch {epoch+1}/{num_epochs}, Validation Loss: {valid_loss}')\n",
    "\n",
    "    y_true, y_pred = test(model, test_loader, device)\n",
    "    pcc = pearsonr(y_true, y_pred)[0]\n",
    "#     auroc = roc_auc_score((np.array(y_true) > np.median(y_true)).astype(int), y_pred)\n",
    "    auroc = roc_auc_score(y_true, y_pred)\n",
    "\n",
    "    print(f'Test PCC: {pcc}')\n",
    "    print(f'Test AUROC: {auroc}')\n",
    "    return pcc, auroc, y_true, y_pred # store test predictions"
   ]
  },
  {
   "cell_type": "code",
   "execution_count": 77,
   "id": "dc9d1742",
   "metadata": {},
   "outputs": [
    {
     "name": "stderr",
     "output_type": "stream",
     "text": [
      "/home/xgui/miniconda3/envs/gcmerge/lib/python3.8/site-packages/torch/nn/modules/loss.py:538: UserWarning: Using a target size (torch.Size([32])) that is different to the input size (torch.Size([32, 1])). This will likely lead to incorrect results due to broadcasting. Please ensure they have the same size.\n",
      "  return F.mse_loss(input, target, reduction=self.reduction)\n",
      "/home/xgui/miniconda3/envs/gcmerge/lib/python3.8/site-packages/torch/nn/modules/loss.py:538: UserWarning: Using a target size (torch.Size([28])) that is different to the input size (torch.Size([28, 1])). This will likely lead to incorrect results due to broadcasting. Please ensure they have the same size.\n",
      "  return F.mse_loss(input, target, reduction=self.reduction)\n",
      "/home/xgui/miniconda3/envs/gcmerge/lib/python3.8/site-packages/torch/nn/modules/loss.py:538: UserWarning: Using a target size (torch.Size([6])) that is different to the input size (torch.Size([6, 1])). This will likely lead to incorrect results due to broadcasting. Please ensure they have the same size.\n",
      "  return F.mse_loss(input, target, reduction=self.reduction)\n"
     ]
    },
    {
     "name": "stdout",
     "output_type": "stream",
     "text": [
      "Epoch 1/10, Validation Loss: 0.41649048030376434\n",
      "Epoch 2/10, Validation Loss: 0.41651115368438674\n",
      "Epoch 3/10, Validation Loss: 0.41972677390786667\n",
      "Epoch 4/10, Validation Loss: 0.4197330140992056\n",
      "Epoch 5/10, Validation Loss: 0.424087545917004\n",
      "Epoch 6/10, Validation Loss: 0.41734680589995804\n",
      "Epoch 7/10, Validation Loss: 0.41922747730454313\n",
      "Epoch 8/10, Validation Loss: 0.4213186725030971\n",
      "Epoch 9/10, Validation Loss: 0.4165636810320842\n",
      "Epoch 10/10, Validation Loss: 0.41951948159103153\n"
     ]
    },
    {
     "ename": "TypeError",
     "evalue": "No loop matching the specified signature and casting was found for ufunc add",
     "output_type": "error",
     "traceback": [
      "\u001b[0;31m---------------------------------------------------------------------------\u001b[0m",
      "\u001b[0;31mTypeError\u001b[0m                                 Traceback (most recent call last)",
      "Cell \u001b[0;32mIn[77], line 1\u001b[0m\n\u001b[0;32m----> 1\u001b[0m pcc, auroc, y_true, y_pred \u001b[38;5;241m=\u001b[39m \u001b[43mrun_cnn_baseline\u001b[49m\u001b[43m(\u001b[49m\u001b[43mtrain_loader\u001b[49m\u001b[43m,\u001b[49m\u001b[43m \u001b[49m\u001b[43mval_loader\u001b[49m\u001b[43m,\u001b[49m\u001b[43m \u001b[49m\u001b[43mtest_loader\u001b[49m\u001b[43m,\u001b[49m\u001b[43m \u001b[49m\u001b[43mnum_epochs\u001b[49m\u001b[38;5;241;43m=\u001b[39;49m\u001b[38;5;241;43m10\u001b[39;49m\u001b[43m)\u001b[49m\n",
      "Cell \u001b[0;32mIn[76], line 15\u001b[0m, in \u001b[0;36mrun_cnn_baseline\u001b[0;34m(train_loader, val_loader, test_loader, lr, num_epochs)\u001b[0m\n\u001b[1;32m     12\u001b[0m         \u001b[38;5;28mprint\u001b[39m(\u001b[38;5;124mf\u001b[39m\u001b[38;5;124m'\u001b[39m\u001b[38;5;124mEpoch \u001b[39m\u001b[38;5;132;01m{\u001b[39;00mepoch\u001b[38;5;241m+\u001b[39m\u001b[38;5;241m1\u001b[39m\u001b[38;5;132;01m}\u001b[39;00m\u001b[38;5;124m/\u001b[39m\u001b[38;5;132;01m{\u001b[39;00mnum_epochs\u001b[38;5;132;01m}\u001b[39;00m\u001b[38;5;124m, Validation Loss: \u001b[39m\u001b[38;5;132;01m{\u001b[39;00mvalid_loss\u001b[38;5;132;01m}\u001b[39;00m\u001b[38;5;124m'\u001b[39m)\n\u001b[1;32m     14\u001b[0m     y_true, y_pred \u001b[38;5;241m=\u001b[39m test(model, test_loader, device)\n\u001b[0;32m---> 15\u001b[0m     pcc \u001b[38;5;241m=\u001b[39m \u001b[43mpearsonr\u001b[49m\u001b[43m(\u001b[49m\u001b[43my_true\u001b[49m\u001b[43m,\u001b[49m\u001b[43m \u001b[49m\u001b[43my_pred\u001b[49m\u001b[43m)\u001b[49m[\u001b[38;5;241m0\u001b[39m]\n\u001b[1;32m     16\u001b[0m \u001b[38;5;66;03m#     auroc = roc_auc_score((np.array(y_true) > np.median(y_true)).astype(int), y_pred)\u001b[39;00m\n\u001b[1;32m     17\u001b[0m     auroc \u001b[38;5;241m=\u001b[39m roc_auc_score(y_true, y_pred)\n",
      "File \u001b[0;32m~/miniconda3/envs/gcmerge/lib/python3.8/site-packages/scipy/stats/stats.py:3924\u001b[0m, in \u001b[0;36mpearsonr\u001b[0;34m(x, y)\u001b[0m\n\u001b[1;32m   3921\u001b[0m \u001b[38;5;28;01mif\u001b[39;00m n \u001b[38;5;241m==\u001b[39m \u001b[38;5;241m2\u001b[39m:\n\u001b[1;32m   3922\u001b[0m     \u001b[38;5;28;01mreturn\u001b[39;00m dtype(np\u001b[38;5;241m.\u001b[39msign(x[\u001b[38;5;241m1\u001b[39m] \u001b[38;5;241m-\u001b[39m x[\u001b[38;5;241m0\u001b[39m])\u001b[38;5;241m*\u001b[39mnp\u001b[38;5;241m.\u001b[39msign(y[\u001b[38;5;241m1\u001b[39m] \u001b[38;5;241m-\u001b[39m y[\u001b[38;5;241m0\u001b[39m])), \u001b[38;5;241m1.0\u001b[39m\n\u001b[0;32m-> 3924\u001b[0m xmean \u001b[38;5;241m=\u001b[39m \u001b[43mx\u001b[49m\u001b[38;5;241;43m.\u001b[39;49m\u001b[43mmean\u001b[49m\u001b[43m(\u001b[49m\u001b[43mdtype\u001b[49m\u001b[38;5;241;43m=\u001b[39;49m\u001b[43mdtype\u001b[49m\u001b[43m)\u001b[49m\n\u001b[1;32m   3925\u001b[0m ymean \u001b[38;5;241m=\u001b[39m y\u001b[38;5;241m.\u001b[39mmean(dtype\u001b[38;5;241m=\u001b[39mdtype)\n\u001b[1;32m   3927\u001b[0m \u001b[38;5;66;03m# By using `astype(dtype)`, we ensure that the intermediate calculations\u001b[39;00m\n\u001b[1;32m   3928\u001b[0m \u001b[38;5;66;03m# use at least 64 bit floating point.\u001b[39;00m\n",
      "File \u001b[0;32m~/miniconda3/envs/gcmerge/lib/python3.8/site-packages/numpy/core/_methods.py:151\u001b[0m, in \u001b[0;36m_mean\u001b[0;34m(a, axis, dtype, out, keepdims)\u001b[0m\n\u001b[1;32m    148\u001b[0m         dtype \u001b[38;5;241m=\u001b[39m mu\u001b[38;5;241m.\u001b[39mdtype(\u001b[38;5;124m'\u001b[39m\u001b[38;5;124mf4\u001b[39m\u001b[38;5;124m'\u001b[39m)\n\u001b[1;32m    149\u001b[0m         is_float16_result \u001b[38;5;241m=\u001b[39m \u001b[38;5;28;01mTrue\u001b[39;00m\n\u001b[0;32m--> 151\u001b[0m ret \u001b[38;5;241m=\u001b[39m \u001b[43mumr_sum\u001b[49m\u001b[43m(\u001b[49m\u001b[43marr\u001b[49m\u001b[43m,\u001b[49m\u001b[43m \u001b[49m\u001b[43maxis\u001b[49m\u001b[43m,\u001b[49m\u001b[43m \u001b[49m\u001b[43mdtype\u001b[49m\u001b[43m,\u001b[49m\u001b[43m \u001b[49m\u001b[43mout\u001b[49m\u001b[43m,\u001b[49m\u001b[43m \u001b[49m\u001b[43mkeepdims\u001b[49m\u001b[43m)\u001b[49m\n\u001b[1;32m    152\u001b[0m \u001b[38;5;28;01mif\u001b[39;00m \u001b[38;5;28misinstance\u001b[39m(ret, mu\u001b[38;5;241m.\u001b[39mndarray):\n\u001b[1;32m    153\u001b[0m     ret \u001b[38;5;241m=\u001b[39m um\u001b[38;5;241m.\u001b[39mtrue_divide(\n\u001b[1;32m    154\u001b[0m             ret, rcount, out\u001b[38;5;241m=\u001b[39mret, casting\u001b[38;5;241m=\u001b[39m\u001b[38;5;124m'\u001b[39m\u001b[38;5;124munsafe\u001b[39m\u001b[38;5;124m'\u001b[39m, subok\u001b[38;5;241m=\u001b[39m\u001b[38;5;28;01mFalse\u001b[39;00m)\n",
      "\u001b[0;31mTypeError\u001b[0m: No loop matching the specified signature and casting was found for ufunc add"
     ]
    }
   ],
   "source": [
    "pcc, auroc, y_true, y_pred = run_cnn_baseline(train_loader, val_loader, test_loader, num_epochs=10)"
   ]
  },
  {
   "cell_type": "code",
   "execution_count": null,
   "id": "b846d25e",
   "metadata": {},
   "outputs": [],
   "source": []
  },
  {
   "cell_type": "code",
   "execution_count": null,
   "id": "c8a21c28",
   "metadata": {},
   "outputs": [],
   "source": []
  },
  {
   "cell_type": "code",
   "execution_count": null,
   "id": "9226163c",
   "metadata": {},
   "outputs": [],
   "source": []
  },
  {
   "cell_type": "markdown",
   "id": "f786f53f",
   "metadata": {},
   "source": [
    "### Visualization"
   ]
  },
  {
   "cell_type": "code",
   "execution_count": 97,
   "id": "c623ebbd",
   "metadata": {},
   "outputs": [],
   "source": [
    "cl_conversion_dct = {'E116': 'GM1287', 'E123': 'K562', 'E122': 'HUVEC'}"
   ]
  },
  {
   "cell_type": "code",
   "execution_count": 78,
   "id": "af4f0f39",
   "metadata": {},
   "outputs": [],
   "source": [
    "mlp_data = pd.DataFrame({\n",
    "    \"cell_line\": [\"E116\", \"E122\", \"E123\"],\n",
    "    \"pcc\": [0.767293, 0.730175, 0.785613],\n",
    "    \"auroc\": [0.928455, 0.916861, 0.936564]\n",
    "})"
   ]
  },
  {
   "cell_type": "code",
   "execution_count": 79,
   "id": "8f2f6f2b",
   "metadata": {},
   "outputs": [
    {
     "data": {
      "text/html": [
       "<div>\n",
       "<style scoped>\n",
       "    .dataframe tbody tr th:only-of-type {\n",
       "        vertical-align: middle;\n",
       "    }\n",
       "\n",
       "    .dataframe tbody tr th {\n",
       "        vertical-align: top;\n",
       "    }\n",
       "\n",
       "    .dataframe thead th {\n",
       "        text-align: right;\n",
       "    }\n",
       "</style>\n",
       "<table border=\"1\" class=\"dataframe\">\n",
       "  <thead>\n",
       "    <tr style=\"text-align: right;\">\n",
       "      <th></th>\n",
       "      <th>cell_line</th>\n",
       "      <th>pcc</th>\n",
       "      <th>auroc</th>\n",
       "    </tr>\n",
       "  </thead>\n",
       "  <tbody>\n",
       "    <tr>\n",
       "      <th>0</th>\n",
       "      <td>E116</td>\n",
       "      <td>0.767293</td>\n",
       "      <td>0.928455</td>\n",
       "    </tr>\n",
       "    <tr>\n",
       "      <th>1</th>\n",
       "      <td>E122</td>\n",
       "      <td>0.730175</td>\n",
       "      <td>0.916861</td>\n",
       "    </tr>\n",
       "    <tr>\n",
       "      <th>2</th>\n",
       "      <td>E123</td>\n",
       "      <td>0.785613</td>\n",
       "      <td>0.936564</td>\n",
       "    </tr>\n",
       "  </tbody>\n",
       "</table>\n",
       "</div>"
      ],
      "text/plain": [
       "  cell_line       pcc     auroc\n",
       "0      E116  0.767293  0.928455\n",
       "1      E122  0.730175  0.916861\n",
       "2      E123  0.785613  0.936564"
      ]
     },
     "execution_count": 79,
     "metadata": {},
     "output_type": "execute_result"
    }
   ],
   "source": [
    "mlp_data"
   ]
  },
  {
   "cell_type": "code",
   "execution_count": 86,
   "id": "33c4ed37",
   "metadata": {},
   "outputs": [
    {
     "data": {
      "text/html": [
       "<div>\n",
       "<style scoped>\n",
       "    .dataframe tbody tr th:only-of-type {\n",
       "        vertical-align: middle;\n",
       "    }\n",
       "\n",
       "    .dataframe tbody tr th {\n",
       "        vertical-align: top;\n",
       "    }\n",
       "\n",
       "    .dataframe thead th {\n",
       "        text-align: right;\n",
       "    }\n",
       "</style>\n",
       "<table border=\"1\" class=\"dataframe\">\n",
       "  <thead>\n",
       "    <tr style=\"text-align: right;\">\n",
       "      <th></th>\n",
       "      <th>Cell line</th>\n",
       "      <th>Test AUROC</th>\n",
       "      <th>Test AUPR</th>\n",
       "      <th>File path</th>\n",
       "    </tr>\n",
       "  </thead>\n",
       "  <tbody>\n",
       "    <tr>\n",
       "      <th>0</th>\n",
       "      <td>E116</td>\n",
       "      <td>0.912144</td>\n",
       "      <td>0.889850</td>\n",
       "      <td>saved_runs/model_2024-10-29-at-14-00-43</td>\n",
       "    </tr>\n",
       "    <tr>\n",
       "      <th>1</th>\n",
       "      <td>E122</td>\n",
       "      <td>0.897573</td>\n",
       "      <td>0.870239</td>\n",
       "      <td>saved_runs/model_2024-10-29-at-14-08-48</td>\n",
       "    </tr>\n",
       "    <tr>\n",
       "      <th>2</th>\n",
       "      <td>E123</td>\n",
       "      <td>0.933665</td>\n",
       "      <td>0.912438</td>\n",
       "      <td>saved_runs/model_2024-10-29-at-14-16-05</td>\n",
       "    </tr>\n",
       "  </tbody>\n",
       "</table>\n",
       "</div>"
      ],
      "text/plain": [
       "  Cell line  Test AUROC  Test AUPR                                File path\n",
       "0      E116    0.912144   0.889850  saved_runs/model_2024-10-29-at-14-00-43\n",
       "1      E122    0.897573   0.870239  saved_runs/model_2024-10-29-at-14-08-48\n",
       "2      E123    0.933665   0.912438  saved_runs/model_2024-10-29-at-14-16-05"
      ]
     },
     "execution_count": 86,
     "metadata": {},
     "output_type": "execute_result"
    }
   ],
   "source": [
    "classification_results_meta"
   ]
  },
  {
   "cell_type": "code",
   "execution_count": 102,
   "id": "d72fa806",
   "metadata": {},
   "outputs": [
    {
     "data": {
      "image/png": "[encoded data removed]",
      "text/plain": [
       "<Figure size 1000x800 with 2 Axes>"
      ]
     },
     "metadata": {},
     "output_type": "display_data"
    }
   ],
   "source": [
    "# cell_lines = ['GM12878', 'K562', 'HUVEC']\n",
    "auroc_values = {\n",
    "    'MLP': mlp_data['auroc'].values,          \n",
    "    'GC-MERGE': classification_results_meta['Test AUROC'].values\n",
    "}\n",
    "pcc_values = {\n",
    "    'MLP': mlp_data['pcc'].values,       \n",
    "    'GC-MERGE': regression_results_meta['Test pearson'].values\n",
    "}\n",
    "\n",
    "\n",
    "x = np.arange(len(cell_lines))\n",
    "width = 0.35  \n",
    "\n",
    "fig, (ax1, ax2) = plt.subplots(2, 1, figsize=(10, 8), sharex=True)\n",
    "\n",
    "\n",
    "ax1.bar(x - width/2, auroc_values['MLP'], width, label='MLP', color='indigo')\n",
    "ax1.bar(x + width/2, auroc_values['GC-MERGE'], width, label='GC-MERGE', color='coral')\n",
    "ax1.set_ylabel('AUROC')\n",
    "ax1.set_ylim(0.80, 0.95)\n",
    "ax1.set_title('Model Performance Comparison')\n",
    "ax1.legend()\n",
    "\n",
    "\n",
    "ax2.bar(x - width/2, pcc_values['MLP'], width, label='MLP', color='indigo')\n",
    "ax2.bar(x + width/2, pcc_values['GC-MERGE'], width, label='GC-MERGE', color='coral')\n",
    "ax2.set_ylabel('PCC')\n",
    "ax2.set_ylim(0.7, 0.85)\n",
    "ax2.set_xticks(x)\n",
    "ax2.set_xticklabels(cl_conversion_dct.values())\n",
    "\n",
    "plt.show()"
   ]
  },
  {
   "cell_type": "code",
   "execution_count": 103,
   "id": "d15f6f0f",
   "metadata": {},
   "outputs": [
    {
     "data": {
      "text/plain": [
       "{'E116': {'y_true': array([7.4816443e-02, 1.2221588e-01, 1.6026676e+00, ..., 8.6685643e-04,\n",
       "         0.0000000e+00, 1.8273369e+00], dtype=float32),\n",
       "  'y_pred': array([0.75512505, 1.2212895 , 0.5311072 , ..., 0.04765021, 0.05083667,\n",
       "         1.1735519 ], dtype=float32)},\n",
       " 'E122': {'y_true': array([0.39759243, 0.00216606, 0.        , ..., 0.        , 0.        ,\n",
       "         0.5661386 ], dtype=float32),\n",
       "  'y_pred': array([0.69241256, 0.2089414 , 0.0147909 , ..., 0.03534405, 0.0304466 ,\n",
       "         1.4553151 ], dtype=float32)},\n",
       " 'E123': {'y_true': array([1.6577536 , 0.87765944, 0.96736073, ..., 0.00302947, 1.339968  ,\n",
       "         0.3170181 ], dtype=float32),\n",
       "  'y_pred': array([1.3715566 , 1.096382  , 0.9502483 , ..., 0.38962704, 0.24517499,\n",
       "         0.902174  ], dtype=float32)}}"
      ]
     },
     "execution_count": 103,
     "metadata": {},
     "output_type": "execute_result"
    }
   ],
   "source": [
    "gcn_results"
   ]
  },
  {
   "cell_type": "code",
   "execution_count": 105,
   "id": "a8ff8925",
   "metadata": {},
   "outputs": [
    {
     "name": "stderr",
     "output_type": "stream",
     "text": [
      "/tmp/ipykernel_156/1561920002.py:3: RuntimeWarning: divide by zero encountered in log10\n",
      "  observed = np.log10(gcn_results[cell_line]['y_true'])\n",
      "/tmp/ipykernel_156/1561920002.py:4: RuntimeWarning: invalid value encountered in log10\n",
      "  predicted_gc_merge = np.log10(gcn_results[cell_line]['y_pred'])\n"
     ]
    },
    {
     "data": {
      "image/png": "[encoded data removed]",
      "text/plain": [
       "<Figure size 1500x500 with 3 Axes>"
      ]
     },
     "metadata": {},
     "output_type": "display_data"
    }
   ],
   "source": [
    "fig, axs = plt.subplots(1, 3, figsize=(15, 5), sharey=True)\n",
    "for i, cell_line in enumerate(cell_lines):\n",
    "    observed = np.log10(gcn_results[cell_line]['y_true']) \n",
    "    predicted_gc_merge = np.log10(gcn_results[cell_line]['y_pred'])\n",
    "    \n",
    "    axs[i].scatter(observed, predicted_gc_merge, alpha=0.6, s=5, color='coral', label='GC-MERGE')\n",
    "#     axs[i].plot([0, 3], [0, 3], 'k-', lw=1) \n",
    "    axs[i].set_title(f'{cl_conversion_dct[cell_line]}\\nPCC={pcc_values[\"GC-MERGE\"][i]:.2f}')\n",
    "    axs[i].set_xlabel('Observed Log10 Expression')\n",
    "    if i == 0:\n",
    "        axs[i].set_ylabel('Predicted Log10 Expression')\n",
    "\n",
    "plt.tight_layout()\n",
    "plt.show()"
   ]
  },
  {
   "cell_type": "code",
   "execution_count": null,
   "id": "28408c17",
   "metadata": {},
   "outputs": [],
   "source": []
  },
  {
   "cell_type": "code",
   "execution_count": null,
   "id": "c02f5442",
   "metadata": {},
   "outputs": [],
   "source": []
  },
  {
   "cell_type": "code",
   "execution_count": null,
   "id": "ff029e24",
   "metadata": {},
   "outputs": [],
   "source": []
  }
 ],
 "metadata": {
  "kernelspec": {
   "display_name": "Python (gcmerge)",
   "language": "python",
   "name": "gcmerge"
  },
  "language_info": {
   "codemirror_mode": {
    "name": "ipython",
    "version": 3
   },
   "file_extension": ".py",
   "mimetype": "text/x-python",
   "name": "python",
   "nbconvert_exporter": "python",
   "pygments_lexer": "ipython3",
   "version": "3.8.20"
  }
 },
 "nbformat": 4,
 "nbformat_minor": 5
}
